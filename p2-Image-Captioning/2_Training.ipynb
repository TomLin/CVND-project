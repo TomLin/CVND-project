{
 "cells": [
  {
   "cell_type": "markdown",
   "metadata": {},
   "source": [
    "# Computer Vision Nanodegree\n",
    "\n",
    "## Project: Image Captioning\n",
    "\n",
    "---\n",
    "\n",
    "In this notebook, you will train your CNN-RNN model.  \n",
    "\n",
    "You are welcome and encouraged to try out many different architectures and hyperparameters when searching for a good model.\n",
    "\n",
    "This does have the potential to make the project quite messy!  Before submitting your project, make sure that you clean up:\n",
    "- the code you write in this notebook.  The notebook should describe how to train a single CNN-RNN architecture, corresponding to your final choice of hyperparameters.  You should structure the notebook so that the reviewer can replicate your results by running the code in this notebook.  \n",
    "- the output of the code cell in **Step 2**.  The output should show the output obtained when training the model from scratch.\n",
    "\n",
    "This notebook **will be graded**.  \n",
    "\n",
    "Feel free to use the links below to navigate the notebook:\n",
    "- [Step 1](#step1): Training Setup\n",
    "- [Step 2](#step2): Train your Model\n",
    "- [Step 3](#step3): (Optional) Validate your Model"
   ]
  },
  {
   "cell_type": "markdown",
   "metadata": {},
   "source": [
    "<a id='step1'></a>\n",
    "## Step 1: Training Setup\n",
    "\n",
    "In this step of the notebook, you will customize the training of your CNN-RNN model by specifying hyperparameters and setting other options that are important to the training procedure.  The values you set now will be used when training your model in **Step 2** below.\n",
    "\n",
    "You should only amend blocks of code that are preceded by a `TODO` statement.  **Any code blocks that are not preceded by a `TODO` statement should not be modified**.\n",
    "\n",
    "### Task #1\n",
    "\n",
    "Begin by setting the following variables:\n",
    "- `batch_size` - the batch size of each training batch.  It is the number of image-caption pairs used to amend the model weights in each training step. \n",
    "- `vocab_threshold` - the minimum word count threshold.  Note that a larger threshold will result in a smaller vocabulary, whereas a smaller threshold will include rarer words and result in a larger vocabulary.  \n",
    "- `vocab_from_file` - a Boolean that decides whether to load the vocabulary from file. \n",
    "- `embed_size` - the dimensionality of the image and word embeddings.  \n",
    "- `hidden_size` - the number of features in the hidden state of the RNN decoder.  \n",
    "- `num_epochs` - the number of epochs to train the model.  We recommend that you set `num_epochs=3`, but feel free to increase or decrease this number as you wish.  [This paper](https://arxiv.org/pdf/1502.03044.pdf) trained a captioning model on a single state-of-the-art GPU for 3 days, but you'll soon see that you can get reasonable results in a matter of a few hours!  (_But of course, if you want your model to compete with current research, you will have to train for much longer._)\n",
    "- `save_every` - determines how often to save the model weights.  We recommend that you set `save_every=1`, to save the model weights after each epoch.  This way, after the `i`th epoch, the encoder and decoder weights will be saved in the `models/` folder as `encoder-i.pkl` and `decoder-i.pkl`, respectively.\n",
    "- `print_every` - determines how often to print the batch loss to the Jupyter notebook while training.  Note that you **will not** observe a monotonic decrease in the loss function while training - this is perfectly fine and completely expected!  You are encouraged to keep this at its default value of `100` to avoid clogging the notebook, but feel free to change it.\n",
    "- `log_file` - the name of the text file containing - for every step - how the loss and perplexity evolved during training.\n",
    "\n",
    "If you're not sure where to begin to set some of the values above, you can peruse [this paper](https://arxiv.org/pdf/1502.03044.pdf) and [this paper](https://arxiv.org/pdf/1411.4555.pdf) for useful guidance!  **To avoid spending too long on this notebook**, you are encouraged to consult these suggested research papers to obtain a strong initial guess for which hyperparameters are likely to work best.  Then, train a single model, and proceed to the next notebook (**3_Inference.ipynb**).  If you are unhappy with your performance, you can return to this notebook to tweak the hyperparameters (and/or the architecture in **model.py**) and re-train your model.\n",
    "\n",
    "### Question 1\n",
    "\n",
    "**Question:** Describe your CNN-RNN architecture in detail.  With this architecture in mind, how did you select the values of the variables in Task 1?  If you consulted a research paper detailing a successful implementation of an image captioning model, please provide the reference.\n",
    "\n",
    "**Answer:** \n",
    "\n",
    "I leave the encoder CNN as the default architecture, which is ResNet50 without further adjustment. ResNet has been proven to result in the best performance on [image recognition](https://arxiv.org/abs/1512.03385) while it is less complicated and easier to optimize. It is also widely used in image captions such as in this [demo](https://github.com/sgrvinod/a-PyTorch-Tutorial-to-Image-Captioning/blob/master/models.py). There are different variations of ResNet architecture with differnt depth(ResNet34, 50, 101, 152). The deeper the network the more accurate the model performs. I choose **ResNet50** in order to lessen the computation strain and it already comes up with pretty good result in empirical tests.\n",
    "\n",
    "---\n",
    "\n",
    "For decoder RNN, I choose to have **single LSTM layer** as how it is configured in this paper - [Show and Tell: A Neural Image Caption Generator](https://www.cv-foundation.org/openaccess/content_cvpr_2015/papers/Vinyals_Show_and_Tell_2015_CVPR_paper.pdf). It's not necessary to have a stacked LSTM model for the prior research already shows image caption model tends to be over-fitting easily. But I don't include dropout layer in Decoder model, for I found out the performance is somehow even worse with dropout layer. Noted that I use `nn.LSTM` to build up the model. In the furst trial, I use `nn.LstmCell` to build up the model. I thought it would be easier to implement Beam Search caption generation latter, but [many advices](https://discuss.pytorch.org/t/different-between-lstm-and-lstmcell-function/5657/2) online warn better not to use `nn.LstmCell`. Especially, `nn.LstmCell` is not cuda optimized and I also notice that my model built on `nn.LstmCell` keeps giving the same predicted caption on different image. Possibly there contain some bugs in nn.LstmCell.  \n",
    "\n",
    "---\n",
    "\n",
    "For hyperparameters, I set up batch size to be 128. Larger batch size helps to increase training speed. I set up the vocab_threshold to be 6, and it would train the model focusing more on frequent words. Embed size and hidden size are set 512, following what is used in the *show and tell image caption* paper. Number of epoch is 2 so that I can save two epoch models and compare performance between them in validation phase. \n",
    "\n",
    "\n",
    "### (Optional) Task #2\n",
    "\n",
    "Note that we have provided a recommended image transform `transform_train` for pre-processing the training images, but you are welcome (and encouraged!) to modify it as you wish.  When modifying this transform, keep in mind that:\n",
    "- the images in the dataset have varying heights and widths, and \n",
    "- if using a pre-trained model, you must perform the corresponding appropriate normalization.\n",
    "\n",
    "### Question 2\n",
    "\n",
    "**Question:** How did you select the transform in `transform_train`?  If you left the transform at its provided value, why do you think that it is a good choice for your CNN architecture?\n",
    "\n",
    "**Answer:** I leave the specification of `transform_train` unchanged. I think the transformations pretty cover the most important elements such as basic data augmentation on random crop and horinzontal flip and converting the image to required size and pixel values for use in pre-trained model.\n",
    "\n",
    "### Task #3\n",
    "\n",
    "Next, you will specify a Python list containing the learnable parameters of the model.  For instance, if you decide to make all weights in the decoder trainable, but only want to train the weights in the embedding layer of the encoder, then you should set `params` to something like:\n",
    "```\n",
    "params = list(decoder.parameters()) + list(encoder.embed.parameters()) \n",
    "```\n",
    "\n",
    "### Question 3\n",
    "\n",
    "**Question:** How did you select the trainable parameters of your architecture?  Why do you think this is a good choice?\n",
    "\n",
    "**Answer:** It is frequently adviced to leave the pre-trained model intact. These pre-trained model aleady have pretty good fine-tuned weights. Hence, I would prefer to train the weights on the final output of the CNN and the whole newly build model RNN to fit in current image caption task.\n",
    "\n",
    "### Task #4\n",
    "\n",
    "Finally, you will select an [optimizer](http://pytorch.org/docs/master/optim.html#torch.optim.Optimizer).\n",
    "\n",
    "### Question 4\n",
    "\n",
    "**Question:** How did you select the optimizer used to train your model?\n",
    "\n",
    "**Answer:** I choose Adam optimizer. It's one of best recommended optimization algorithms. It also well fits in various training cases. I leave the arguments for Adam optimizer as default. In [this post](https://machinelearningmastery.com/adam-optimization-algorithm-for-deep-learning/) it explicitly mentions to set up beta 1 and beta 2 as (0.9, 0.999). The setting is most suitable for addressing cases in NLP and computer vision."
   ]
  },
  {
   "cell_type": "code",
   "execution_count": 1,
   "metadata": {},
   "outputs": [
    {
     "name": "stdout",
     "output_type": "stream",
     "text": [
      "[nltk_data] Downloading package punkt to /root/nltk_data...\n",
      "[nltk_data]   Unzipping tokenizers/punkt.zip.\n",
      "loading annotations into memory...\n",
      "Done (t=1.05s)\n",
      "creating index...\n",
      "index created!\n",
      "[0/414113] Tokenizing captions...\n",
      "[100000/414113] Tokenizing captions...\n",
      "[200000/414113] Tokenizing captions...\n",
      "[300000/414113] Tokenizing captions...\n",
      "[400000/414113] Tokenizing captions...\n",
      "loading annotations into memory...\n",
      "Done (t=0.92s)\n",
      "creating index...\n"
     ]
    },
    {
     "name": "stderr",
     "output_type": "stream",
     "text": [
      "  0%|          | 1199/414113 [00:00<01:08, 5991.49it/s]"
     ]
    },
    {
     "name": "stdout",
     "output_type": "stream",
     "text": [
      "index created!\n",
      "Obtaining caption lengths...\n"
     ]
    },
    {
     "name": "stderr",
     "output_type": "stream",
     "text": [
      "100%|██████████| 414113/414113 [01:11<00:00, 5775.87it/s]\n",
      "Downloading: \"https://download.pytorch.org/models/resnet50-19c8e357.pth\" to /root/.torch/models/resnet50-19c8e357.pth\n",
      "100%|██████████| 102502400/102502400 [00:03<00:00, 27049277.85it/s]\n"
     ]
    }
   ],
   "source": [
    "import nltk\n",
    "nltk.download('punkt')\n",
    "import torch\n",
    "import torch.nn as nn\n",
    "from torchvision import transforms\n",
    "import sys\n",
    "sys.path.append('/opt/cocoapi/PythonAPI')\n",
    "from pycocotools.coco import COCO\n",
    "from data_loader import get_loader\n",
    "from model import EncoderCNN, DecoderRNN\n",
    "import math\n",
    "\n",
    "\n",
    "## TODO #1: Select appropriate values for the Python variables below.\n",
    "batch_size = 128           # batch size\n",
    "vocab_threshold = 6        # minimum word count threshold\n",
    "vocab_from_file = False    # if True, load existing vocab file\n",
    "embed_size = 512           # dimensionality of image and word embeddings\n",
    "hidden_size = 512          # number of features in hidden state of the RNN decoder\n",
    "num_epochs = 2             # number of training epochs\n",
    "save_every = 1             # determines frequency of saving model weights\n",
    "print_every = 1000         # determines window for printing average loss\n",
    "log_file = 'training_log.txt'       # name of file with saved training loss and perplexity\n",
    "\n",
    "# (Optional) TODO #2: Amend the image transform below.\n",
    "transform_train = transforms.Compose([ \n",
    "    transforms.Resize(256),                          # smaller edge of image resized to 256\n",
    "    transforms.RandomCrop(224),                      # get 224x224 crop from random location\n",
    "    transforms.RandomHorizontalFlip(),               # horizontally flip image with probability=0.5\n",
    "    transforms.ToTensor(),                           # convert the PIL Image to a tensor\n",
    "    transforms.Normalize((0.485, 0.456, 0.406),      # normalize image for pre-trained model\n",
    "                         (0.229, 0.224, 0.225))])\n",
    "\n",
    "# Build data loader.\n",
    "data_loader = get_loader(transform=transform_train,\n",
    "                         mode='train',\n",
    "                         batch_size=batch_size,\n",
    "                         vocab_threshold=vocab_threshold,\n",
    "                         vocab_from_file=vocab_from_file)\n",
    "\n",
    "# The size of the vocabulary.\n",
    "vocab_size = len(data_loader.dataset.vocab)\n",
    "\n",
    "# Initialize the encoder and decoder. \n",
    "encoder = EncoderCNN(embed_size)\n",
    "decoder = DecoderRNN(embed_size, hidden_size, vocab_size)\n",
    "\n",
    "# Move models to GPU if CUDA is available. \n",
    "device = torch.device(\"cuda\" if torch.cuda.is_available() else \"cpu\")\n",
    "encoder.to(device)\n",
    "decoder.to(device)\n",
    "\n",
    "# Define the loss function. \n",
    "criterion = nn.CrossEntropyLoss().cuda() if torch.cuda.is_available() else nn.CrossEntropyLoss()\n",
    "\n",
    "# TODO #3: Specify the learnable parameters of the model.\n",
    "params = list(decoder.parameters()) + list(encoder.embed.parameters())\n",
    "\n",
    "# TODO #4: Define the optimizer.\n",
    "optimizer = torch.optim.Adam(params, lr=0.001, betas=(0.9, 0.999), eps=1e-08)\n",
    "\n",
    "# Set the total number of training steps per epoch. -> to round down for getting full batch size\n",
    "total_step = math.ceil(len(data_loader.dataset.caption_lengths) / data_loader.batch_sampler.batch_size)"
   ]
  },
  {
   "cell_type": "markdown",
   "metadata": {},
   "source": [
    "<a id='step2'></a>\n",
    "## Step 2: Train your Model\n",
    "\n",
    "Once you have executed the code cell in **Step 1**, the training procedure below should run without issue.  \n",
    "\n",
    "It is completely fine to leave the code cell below as-is without modifications to train your model.  However, if you would like to modify the code used to train the model below, you must ensure that your changes are easily parsed by your reviewer.  In other words, make sure to provide appropriate comments to describe how your code works!  \n",
    "\n",
    "You may find it useful to load saved weights to resume training.  In that case, note the names of the files containing the encoder and decoder weights that you'd like to load (`encoder_file` and `decoder_file`).  Then you can load the weights by using the lines below:\n",
    "\n",
    "```python\n",
    "# Load pre-trained weights before resuming training.\n",
    "encoder.load_state_dict(torch.load(os.path.join('./models', encoder_file)))\n",
    "decoder.load_state_dict(torch.load(os.path.join('./models', decoder_file)))\n",
    "```\n",
    "\n",
    "While trying out parameters, make sure to take extensive notes and record the settings that you used in your various training runs.  In particular, you don't want to encounter a situation where you've trained a model for several hours but can't remember what settings you used :).\n",
    "\n",
    "### A Note on Tuning Hyperparameters\n",
    "\n",
    "To figure out how well your model is doing, you can look at how the training loss and perplexity evolve during training - and for the purposes of this project, you are encouraged to amend the hyperparameters based on this information.  \n",
    "\n",
    "However, this will not tell you if your model is overfitting to the training data, and, unfortunately, overfitting is a problem that is commonly encountered when training image captioning models.  \n",
    "\n",
    "For this project, you need not worry about overfitting. **This project does not have strict requirements regarding the performance of your model**, and you just need to demonstrate that your model has learned **_something_** when you generate captions on the test data.  For now, we strongly encourage you to train your model for the suggested 3 epochs without worrying about performance; then, you should immediately transition to the next notebook in the sequence (**3_Inference.ipynb**) to see how your model performs on the test data.  If your model needs to be changed, you can come back to this notebook, amend hyperparameters (if necessary), and re-train the model.\n",
    "\n",
    "That said, if you would like to go above and beyond in this project, you can read about some approaches to minimizing overfitting in section 4.3.1 of [this paper](http://ieeexplore.ieee.org/stamp/stamp.jsp?arnumber=7505636).  In the next (optional) step of this notebook, we provide some guidance for assessing the performance on the validation dataset."
   ]
  },
  {
   "cell_type": "code",
   "execution_count": 2,
   "metadata": {},
   "outputs": [],
   "source": [
    "import torch.utils.data as data\n",
    "import numpy as np\n",
    "import os\n",
    "import requests\n",
    "import time\n",
    "from workspace_utils import active_session"
   ]
  },
  {
   "cell_type": "code",
   "execution_count": 3,
   "metadata": {},
   "outputs": [
    {
     "name": "stdout",
     "output_type": "stream",
     "text": [
      "Epoch [1/2], Step [1000/3236], Loss: 2.9181, Perplexity: 18.5066\n",
      "Epoch [1/2], Step [2000/3236], Loss: 2.2678, Perplexity: 9.65836\n",
      "Epoch [1/2], Step [3000/3236], Loss: 2.2601, Perplexity: 9.583607\n",
      "Epoch [2/2], Step [1000/3236], Loss: 2.1077, Perplexity: 8.22939\n",
      "Epoch [2/2], Step [2000/3236], Loss: 2.0001, Perplexity: 7.39013\n",
      "Epoch [2/2], Step [3000/3236], Loss: 2.0688, Perplexity: 7.915249\n",
      "Epoch [2/2], Step [3236/3236], Loss: 2.1812, Perplexity: 8.85715"
     ]
    }
   ],
   "source": [
    "# active_session to keep Udacity workspace awake\n",
    "with active_session():\n",
    "    # Open the training log file.\n",
    "    f = open(log_file, 'w')\n",
    "\n",
    "    old_time = time.time()\n",
    "    response = requests.request(\"GET\", \n",
    "                                \"http://metadata.google.internal/computeMetadata/v1/instance/attributes/keep_alive_token\", \n",
    "                                headers={\"Metadata-Flavor\":\"Google\"})\n",
    "\n",
    "    for epoch in range(1, num_epochs+1):\n",
    "\n",
    "        for i_step in range(1, total_step+1):\n",
    "\n",
    "            if time.time() - old_time > 60:\n",
    "                old_time = time.time()\n",
    "                requests.request(\"POST\", \n",
    "                                 \"https://nebula.udacity.com/api/v1/remote/keep-alive\", \n",
    "                                 headers={'Authorization': \"STAR \" + response.text})\n",
    "\n",
    "            # Randomly sample a caption length, and sample indices with that length.\n",
    "            indices = data_loader.dataset.get_train_indices()\n",
    "            # Create and assign a batch sampler to retrieve a batch with the sampled indices.\n",
    "            new_sampler = data.sampler.SubsetRandomSampler(indices=indices)\n",
    "            data_loader.batch_sampler.sampler = new_sampler\n",
    "\n",
    "            # Obtain the batch.\n",
    "            images, captions = next(iter(data_loader))\n",
    "\n",
    "            # Move batch of images and captions to GPU if CUDA is available.\n",
    "            images = images.to(device)\n",
    "            captions = captions.to(device)\n",
    "\n",
    "            # Zero the gradients.\n",
    "            decoder.zero_grad()\n",
    "            encoder.zero_grad()\n",
    "\n",
    "            # Pass the inputs through the CNN-RNN model.\n",
    "            features = encoder(images)\n",
    "            outputs = decoder(features, captions)\n",
    "\n",
    "            # Calculate the batch loss.\n",
    "            loss = criterion(outputs.view(-1, vocab_size), captions.view(-1))\n",
    "\n",
    "            # Backward pass.\n",
    "            loss.backward()\n",
    "\n",
    "            # Update the parameters in the optimizer.\n",
    "            optimizer.step()\n",
    "\n",
    "            # Get training statistics.\n",
    "            stats = 'Epoch [%d/%d], Step [%d/%d], Loss: %.4f, Perplexity: %5.4f' % (epoch, num_epochs, i_step, total_step, loss.item(), np.exp(loss.item()))\n",
    "\n",
    "            # Print training statistics (on same line).\n",
    "            print('\\r' + stats, end=\"\")\n",
    "            sys.stdout.flush()\n",
    "\n",
    "            # Print training statistics to file.\n",
    "            f.write(stats + '\\n')\n",
    "            f.flush()\n",
    "\n",
    "            # Print training statistics (on different line).\n",
    "            if i_step % print_every == 0:\n",
    "                print('\\r' + stats)\n",
    "\n",
    "        # Save the weights.\n",
    "        if epoch % save_every == 0:\n",
    "            torch.save(decoder.state_dict(), os.path.join('./models', 'decoder-%d.pkl' % epoch))\n",
    "            torch.save(encoder.state_dict(), os.path.join('./models', 'encoder-%d.pkl' % epoch))\n",
    "\n",
    "    # Close the training log file.\n",
    "    f.close()"
   ]
  },
  {
   "cell_type": "markdown",
   "metadata": {},
   "source": [
    "<a id='step3'></a>\n",
    "## Step 3: (Optional) Validate your Model\n",
    "\n",
    "To assess potential overfitting, one approach is to assess performance on a validation set.  If you decide to do this **optional** task, you are required to first complete all of the steps in the next notebook in the sequence (**3_Inference.ipynb**); as part of that notebook, you will write and test code (specifically, the `sample` method in the `DecoderRNN` class) that uses your RNN decoder to generate captions.  That code will prove incredibly useful here. \n",
    "\n",
    "If you decide to validate your model, please do not edit the data loader in **data_loader.py**.  Instead, create a new file named **data_loader_val.py** containing the code for obtaining the data loader for the validation data.  You can access:\n",
    "- the validation images at filepath `'/opt/cocoapi/images/val2014/'`, and\n",
    "- the validation image caption annotation file at filepath `'/opt/cocoapi/annotations/captions_val2014.json'`.\n",
    "\n",
    "The suggested approach to validating your model involves creating a json file such as [this one](https://github.com/cocodataset/cocoapi/blob/master/results/captions_val2014_fakecap_results.json) containing your model's predicted captions for the validation images.  Then, you can write your own script or use one that you [find online](https://github.com/tylin/coco-caption) to calculate the BLEU score of your model.  You can read more about the BLEU score, along with other evaluation metrics (such as TEOR and Cider) in section 4.1 of [this paper](https://arxiv.org/pdf/1411.4555.pdf).  For more information about how to use the annotation file, check out the [website](http://cocodataset.org/#download) for the COCO dataset."
   ]
  },
  {
   "cell_type": "code",
   "execution_count": 1,
   "metadata": {},
   "outputs": [
    {
     "name": "stdout",
     "output_type": "stream",
     "text": [
      "Requirement already satisfied: nltk in /opt/conda/lib/python3.6/site-packages\n",
      "Requirement already satisfied: six in /opt/conda/lib/python3.6/site-packages (from nltk)\n",
      "\u001b[33mYou are using pip version 9.0.1, however version 18.1 is available.\n",
      "You should consider upgrading via the 'pip install --upgrade pip' command.\u001b[0m\n",
      "[nltk_data] Downloading package punkt to /root/nltk_data...\n",
      "[nltk_data]   Unzipping tokenizers/punkt.zip.\n"
     ]
    }
   ],
   "source": [
    "# (Optional) TODO: Validate your model.\n",
    "!pip install nltk\n",
    "import nltk\n",
    "from nltk.translate.bleu_score import sentence_bleu\n",
    "nltk.download('punkt')\n",
    "import sys\n",
    "sys.path.append('/opt/cocoapi/PythonAPI')\n",
    "from pycocotools.coco import COCO\n",
    "from tqdm import tqdm\n",
    "import torch\n",
    "import torch.utils.data as data\n",
    "from torchvision import transforms\n",
    "from model import EncoderCNN, DecoderRNN\n",
    "from data_loader_val import val_get_loader\n",
    "import os"
   ]
  },
  {
   "cell_type": "code",
   "execution_count": 2,
   "metadata": {},
   "outputs": [
    {
     "name": "stdout",
     "output_type": "stream",
     "text": [
      "Vocabulary successfully loaded from vocab.pkl file!\n",
      "loading annotations into memory...\n",
      "Done (t=0.49s)\n",
      "creating index...\n"
     ]
    },
    {
     "name": "stderr",
     "output_type": "stream",
     "text": [
      "  1%|          | 1075/202654 [00:00<00:39, 5134.10it/s]"
     ]
    },
    {
     "name": "stdout",
     "output_type": "stream",
     "text": [
      "index created!\n",
      "Obtaining caption lengths...\n"
     ]
    },
    {
     "name": "stderr",
     "output_type": "stream",
     "text": [
      "100%|██████████| 202654/202654 [00:34<00:00, 5860.64it/s]\n"
     ]
    }
   ],
   "source": [
    "# instantiate val_get_loader\n",
    "val_transform = transforms.Compose([\n",
    "                    transforms.CenterCrop(224),\n",
    "                    transforms.ToTensor(),\n",
    "                    transforms.Normalize(mean=(0.485, 0.456, 0.406),\n",
    "                                         std=(0.229, 0.224, 0.225))])\n",
    "\n",
    "val_data_loader = val_get_loader(transform=val_transform,\n",
    "                                 mode='validation',\n",
    "                                 batch_size=1,\n",
    "                                 vocab_file='./vocab.pkl',\n",
    "                                 vocab_from_file=True,\n",
    "                                 cocoapi_loc='/opt')"
   ]
  },
  {
   "cell_type": "code",
   "execution_count": 3,
   "metadata": {},
   "outputs": [],
   "source": [
    "def clean_sentence(output):\n",
    "    word_list = []\n",
    "    for idx in output:\n",
    "        word_list.append(val_data_loader.dataset.vocab.idx2word[idx])\n",
    "    word_list = word_list[1:-1] # Discard <start> and <end> words\n",
    "    sentence = ' '.join(word_list)\n",
    "    sentence = sentence.capitalize()\n",
    "    return sentence"
   ]
  },
  {
   "cell_type": "code",
   "execution_count": 4,
   "metadata": {},
   "outputs": [],
   "source": [
    "device = torch.device(\"cuda\" if torch.cuda.is_available() else \"cpu\")\n",
    "vocab_size = len(val_data_loader.dataset.vocab)"
   ]
  },
  {
   "cell_type": "code",
   "execution_count": 5,
   "metadata": {},
   "outputs": [
    {
     "name": "stderr",
     "output_type": "stream",
     "text": [
      "Downloading: \"https://download.pytorch.org/models/resnet50-19c8e357.pth\" to /root/.torch/models/resnet50-19c8e357.pth\n",
      "100%|██████████| 102502400/102502400 [00:02<00:00, 50511603.08it/s]\n"
     ]
    },
    {
     "data": {
      "text/plain": [
       "DecoderRNN(\n",
       "  (embed): Embedding(8099, 512)\n",
       "  (lstm): LSTM(512, 512, batch_first=True)\n",
       "  (fc): Linear(in_features=512, out_features=8099, bias=True)\n",
       ")"
      ]
     },
     "execution_count": 5,
     "metadata": {},
     "output_type": "execute_result"
    }
   ],
   "source": [
    "# load in model of epoch 1\n",
    "encoder_file1 = 'encoder-{}.pkl'.format(1)\n",
    "decoder_file1 = 'decoder-{}.pkl'.format(1)\n",
    "\n",
    "encoder1 = EncoderCNN(embed_size=512)\n",
    "encoder1.eval()\n",
    "decoder1 = DecoderRNN(embed_size=512, hidden_size=512, vocab_size=vocab_size)\n",
    "decoder1.eval()\n",
    "\n",
    "encoder1.load_state_dict(torch.load(os.path.join('./models', encoder_file1)))\n",
    "decoder1.load_state_dict(torch.load(os.path.join('./models', decoder_file1)))\n",
    "\n",
    "encoder1.to(device)\n",
    "decoder1.to(device)"
   ]
  },
  {
   "cell_type": "code",
   "execution_count": 6,
   "metadata": {},
   "outputs": [
    {
     "data": {
      "text/plain": [
       "DecoderRNN(\n",
       "  (embed): Embedding(8099, 512)\n",
       "  (lstm): LSTM(512, 512, batch_first=True)\n",
       "  (fc): Linear(in_features=512, out_features=8099, bias=True)\n",
       ")"
      ]
     },
     "execution_count": 6,
     "metadata": {},
     "output_type": "execute_result"
    }
   ],
   "source": [
    "# load in model of epoch 2\n",
    "encoder_file2 = 'encoder-{}.pkl'.format(2)\n",
    "decoder_file2 = 'decoder-{}.pkl'.format(2)\n",
    "\n",
    "encoder2 = EncoderCNN(embed_size=512)\n",
    "encoder2.eval()\n",
    "decoder2 = DecoderRNN(embed_size=512, hidden_size=512, vocab_size=vocab_size)\n",
    "decoder2.eval()\n",
    "\n",
    "encoder2.load_state_dict(torch.load(os.path.join('./models', encoder_file2)))\n",
    "decoder2.load_state_dict(torch.load(os.path.join('./models', decoder_file2)))\n",
    "\n",
    "encoder2.to(device)\n",
    "decoder2.to(device)"
   ]
  },
  {
   "cell_type": "code",
   "execution_count": 7,
   "metadata": {},
   "outputs": [
    {
     "name": "stderr",
     "output_type": "stream",
     "text": [
      "/opt/conda/lib/python3.6/site-packages/nltk/translate/bleu_score.py:490: UserWarning: \n",
      "Corpus/Sentence contains 0 counts of 2-gram overlaps.\n",
      "BLEU scores might be undesirable; use SmoothingFunction().\n",
      "  warnings.warn(_msg)\n"
     ]
    },
    {
     "name": "stdout",
     "output_type": "stream",
     "text": [
      "model-1 average greedy score: 0.68408\n",
      "model-1 average beam score: 0.66915\n",
      "model-2 average greedy score: 0.67387\n",
      "model-2 average beam score: 0.66986\n"
     ]
    }
   ],
   "source": [
    "max_images = 200 # number of images for validation\n",
    "greedy_score1_list = []\n",
    "beam_score1_list = []\n",
    "greedy_score2_list = []\n",
    "beam_score2_list = []\n",
    "cnt = 0\n",
    "for _ in range(max_images):\n",
    "\n",
    "    indices = val_data_loader.dataset.get_train_indices()\n",
    "    new_sampler = data.sampler.SubsetRandomSampler(indices=indices)\n",
    "    val_data_loader.batch_sampler.sampler = new_sampler\n",
    "\n",
    "    img, caption = next(iter(val_data_loader)) # batch size 1\n",
    "    img = img.to(device)\n",
    "    features1 = encoder1(img).unsqueeze(1)\n",
    "    output1 = decoder1.sample(features1)\n",
    "    output1 = nltk.tokenize.word_tokenize(clean_sentence(output1))\n",
    "    caption = nltk.tokenize.word_tokenize(clean_sentence(caption.tolist()[0]))\n",
    "    score1 = sentence_bleu(caption, output1)\n",
    "    greedy_score1_list.append(score1)\n",
    "    \n",
    "    beam1 = decoder1.beam_search(features1)\n",
    "    beam1 = nltk.tokenize.word_tokenize(clean_sentence(beam1))\n",
    "    beam_score1 = sentence_bleu(caption, beam1)\n",
    "    beam_score1_list.append(beam_score1)\n",
    "\n",
    "    features2 = encoder2(img).unsqueeze(1)\n",
    "    output2 = decoder2.sample(features2)\n",
    "    output2 = nltk.tokenize.word_tokenize(clean_sentence(output2))\n",
    "    score2 = sentence_bleu(caption, output2)\n",
    "    greedy_score2_list.append(score2)\n",
    "    \n",
    "    \n",
    "    beam2 = decoder2.beam_search(features2)\n",
    "    beam2 = nltk.tokenize.word_tokenize(clean_sentence(beam2))\n",
    "    beam_score2 = sentence_bleu(caption, beam2)\n",
    "    beam_score2_list.append(beam_score2)\n",
    "    \n",
    "    cnt += 1\n",
    "\n",
    "print('model-1 average greedy score:{:8.5f}'.format(sum(greedy_score1_list)/cnt))\n",
    "print('model-1 average beam score:{:8.5f}'.format(sum(beam_score1_list)/cnt))\n",
    "print('model-2 average greedy score:{:8.5f}'.format(sum(greedy_score2_list)/cnt))\n",
    "print('model-2 average beam score:{:8.5f}'.format(sum(beam_score2_list)/cnt))"
   ]
  },
  {
   "cell_type": "code",
   "execution_count": 8,
   "metadata": {},
   "outputs": [
    {
     "data": {
      "image/png": "[encoded data removed]",
      "text/plain": [
       "<matplotlib.figure.Figure at 0x7fb40a15d160>"
      ]
     },
     "metadata": {
      "needs_background": "light"
     },
     "output_type": "display_data"
    }
   ],
   "source": [
    "import matplotlib.pyplot as plt\n",
    "import numpy as np\n",
    "%matplotlib inline\n",
    "\n",
    "fig = plt.figure(figsize=(10,5))\n",
    "plt.plot(np.arange(max_images), np.array(greedy_score1_list), '-c', label='greedy score1')\n",
    "plt.plot(np.arange(max_images), np.array(beam_score1_list), '-y', label='beam score1')\n",
    "plt.plot(np.arange(max_images), np.array(greedy_score2_list), '-g', label='greedy score2')\n",
    "plt.plot(np.arange(max_images), np.array(beam_score2_list), '-r', label='beam score2')\n",
    "plt.title('bleu score of greedy and beam sample over two models')\n",
    "plt.ylabel('bleu score')\n",
    "plt.xlabel('each image')\n",
    "plt.legend()\n",
    "plt.show()"
   ]
  },
  {
   "cell_type": "code",
   "execution_count": null,
   "metadata": {},
   "outputs": [],
   "source": []
  }
 ],
 "metadata": {
  "anaconda-cloud": {},
  "kernelspec": {
   "display_name": "Python 3",
   "language": "python",
   "name": "python3"
  },
  "language_info": {
   "codemirror_mode": {
    "name": "ipython",
    "version": 3
   },
   "file_extension": ".py",
   "mimetype": "text/x-python",
   "name": "python",
   "nbconvert_exporter": "python",
   "pygments_lexer": "ipython3",
   "version": "3.6.5"
  }
 },
 "nbformat": 4,
 "nbformat_minor": 2
}
